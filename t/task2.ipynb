{
 "cells": [
  {
   "cell_type": "code",
   "execution_count": 1,
   "id": "c8f22f17",
   "metadata": {},
   "outputs": [
    {
     "name": "stdout",
     "output_type": "stream",
     "text": [
      "Enter a number :10\n",
      "10\n",
      "Enter a number :2\n",
      "Enter a number :3\n",
      "Enter a number :4\n",
      "Enter a number :5\n",
      "5\n"
     ]
    }
   ],
   "source": [
    "for i in range (5):\n",
    "    s=int(input(\"Enter a number :\"))\n",
    "    if s%5==0:\n",
    "        print (s)"
   ]
  },
  {
   "cell_type": "code",
   "execution_count": null,
   "id": "f19a79f2",
   "metadata": {},
   "outputs": [],
   "source": []
  }
 ],
 "metadata": {
  "kernelspec": {
   "display_name": "Python 3 (ipykernel)",
   "language": "python",
   "name": "python3"
  },
  "language_info": {
   "codemirror_mode": {
    "name": "ipython",
    "version": 3
   },
   "file_extension": ".py",
   "mimetype": "text/x-python",
   "name": "python",
   "nbconvert_exporter": "python",
   "pygments_lexer": "ipython3",
   "version": "3.9.12"
  }
 },
 "nbformat": 4,
 "nbformat_minor": 5
}
